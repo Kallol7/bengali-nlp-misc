{
 "cells": [
  {
   "cell_type": "code",
   "execution_count": 1,
   "metadata": {},
   "outputs": [],
   "source": [
    "import json"
   ]
  },
  {
   "cell_type": "code",
   "execution_count": 2,
   "metadata": {},
   "outputs": [
    {
     "data": {
      "text/plain": [
       "{'a': ['a', 'aa'],\n",
       " 'b_but_key_renamed': ['b', 'bb'],\n",
       " 'new_fix': ['previous_fix',\n",
       "  'non_existant_new_word',\n",
       "  'variation_of_previous_fix']}"
      ]
     },
     "execution_count": 2,
     "metadata": {},
     "output_type": "execute_result"
    }
   ],
   "source": [
    "# load the fix.json\n",
    "with open(\"fix.json\",\"r\", encoding=\"utf-8\") as f:\n",
    "    fix = json.load(f)\n",
    "\n",
    "fix"
   ]
  },
  {
   "cell_type": "code",
   "execution_count": 3,
   "metadata": {},
   "outputs": [
    {
     "data": {
      "text/plain": [
       "{'other_keys_that_doesnt_need_fix': ['other1',\n",
       "  'other2',\n",
       "  'other3',\n",
       "  'টানাহিঁচড়া'],\n",
       " 'another_key_that_dont_need_fix': ['another1', 'another2', 'another3'],\n",
       " 'a': ['a1', 'a2', 'a3'],\n",
       " 'aa': ['aa1', 'aa2', 'aa3'],\n",
       " 'b': ['b1', 'b2', 'b3'],\n",
       " 'bb': ['bb1', 'bb2', 'bb3'],\n",
       " 'previous_fix': ['old_key1', 'old_val1'],\n",
       " 'variation_of_previous_fix': ['old_key2', 'old_val2']}"
      ]
     },
     "execution_count": 3,
     "metadata": {},
     "output_type": "execute_result"
    }
   ],
   "source": [
    "\"\"\" \n",
    "    previous_fix means it was previously fixed manually\n",
    "\"\"\"\n",
    "\n",
    "# load the data_wordmap\n",
    "with open(\"mapper.json\",\"r\", encoding=\"utf-8\") as f:\n",
    "    mapper = json.load(f)\n",
    "\n",
    "# for comparing later\n",
    "old_mapper = json.dumps(mapper, ensure_ascii=False)\n",
    "\n",
    "mapper"
   ]
  },
  {
   "cell_type": "code",
   "execution_count": 4,
   "metadata": {},
   "outputs": [],
   "source": [
    "# run once, \n",
    "for row in fix:\n",
    "    all_keys = []\n",
    "    all_keys.append(row)\n",
    "    all_keys.extend(fix[row])\n",
    "    # print(all_keys)\n",
    "\n",
    "    all_values = []\n",
    "    # copy the old keys and put them as values\n",
    "    all_values.extend(all_keys)\n",
    "    # print(\"Row:\", all_values)\n",
    "\n",
    "    for key in all_keys:\n",
    "        # collect old key's words then delete the old key from mapper\n",
    "        values_of_k_from_mapper = mapper.get(key,[])\n",
    "        if len(values_of_k_from_mapper) == 0:\n",
    "            continue\n",
    "        del mapper[key]\n",
    "\n",
    "        # add the collected words to all_values\n",
    "        all_values.extend(values_of_k_from_mapper)\n",
    "    \n",
    "    st =set(all_values)\n",
    "    st.remove(row)\n",
    "    all_values = sorted(st)\n",
    "    # put the new key as first value\n",
    "    all_values.insert(0, row)\n",
    "\n",
    "    mapper[row] = all_values"
   ]
  },
  {
   "cell_type": "code",
   "execution_count": 5,
   "metadata": {},
   "outputs": [
    {
     "name": "stdout",
     "output_type": "stream",
     "text": [
      "OLD MAPPER:\n",
      "{\"other_keys_that_doesnt_need_fix\": [\"other1\", \"other2\", \"other3\", \"টানাহিঁচড়া\"],\n",
      " \"another_key_that_dont_need_fix\": [\"another1\", \"another2\", \"another3\"],\n",
      " \"a\": [\"a1\", \"a2\", \"a3\"],\n",
      " \"aa\": [\"aa1\", \"aa2\", \"aa3\"],\n",
      " \"b\": [\"b1\", \"b2\", \"b3\"],\n",
      " \"bb\": [\"bb1\", \"bb2\", \"bb3\"],\n",
      " \"previous_fix\": [\"old_key1\", \"old_val1\"],\n",
      " \"variation_of_previous_fix\": [\"old_key2\", \"old_val2\"]}\"],\n"
     ]
    }
   ],
   "source": [
    "print(\"OLD MAPPER:\")\n",
    "cnt = 0 \n",
    "for line in old_mapper.split('\"],'):\n",
    "    cnt+=1\n",
    "    if cnt == 100:\n",
    "        # only print first 100 for actual mapper, \n",
    "        # computer might otherwise\n",
    "        break\n",
    "    print(line+'\"],')"
   ]
  },
  {
   "cell_type": "code",
   "execution_count": 6,
   "metadata": {},
   "outputs": [
    {
     "name": "stdout",
     "output_type": "stream",
     "text": [
      "AFTER FIX:\n",
      "{\n",
      "    'other_keys_that_doesnt_need_fix'': ['other1', 'other2', 'other3', 'টানাহিঁচড়া']\n",
      "    'another_key_that_dont_need_fix'': ['another1', 'another2', 'another3']\n",
      "    'a'': ['a', 'a1', 'a2', 'a3', 'aa', 'aa1', 'aa2', 'aa3']\n",
      "    'b_but_key_renamed'': ['b_but_key_renamed', 'b', 'b1', 'b2', 'b3', 'bb', 'bb1', 'bb2', 'bb3']\n",
      "    'new_fix'': ['new_fix', 'non_existant_new_word', 'old_key1', 'old_key2', 'old_val1', 'old_val2', 'previous_fix', 'variation_of_previous_fix']\n",
      "}\n"
     ]
    }
   ],
   "source": [
    "print(\"AFTER FIX:\")\n",
    "# prettify \n",
    "print(\"{\")\n",
    "cnt = 0\n",
    "for key,val in mapper.items():\n",
    "    print(f\"    '{key}'': {val}\")\n",
    "\n",
    "    cnt+=1\n",
    "    if cnt == 100:\n",
    "        # only print first 100 for actual mapper, \n",
    "        # computer might otherwise\n",
    "        break\n",
    "print(\"}\")"
   ]
  },
  {
   "cell_type": "code",
   "execution_count": 7,
   "metadata": {},
   "outputs": [],
   "source": [
    "# mapper"
   ]
  },
  {
   "cell_type": "code",
   "execution_count": 8,
   "metadata": {},
   "outputs": [],
   "source": [
    "with open(\"new_mapper.json\",\"w\", encoding=\"utf-8\") as f:\n",
    "    json.dump(mapper, f, ensure_ascii=False)"
   ]
  }
 ],
 "metadata": {
  "kernelspec": {
   "display_name": "Python 3",
   "language": "python",
   "name": "python3"
  },
  "language_info": {
   "codemirror_mode": {
    "name": "ipython",
    "version": 3
   },
   "file_extension": ".py",
   "mimetype": "text/x-python",
   "name": "python",
   "nbconvert_exporter": "python",
   "pygments_lexer": "ipython3",
   "version": "3.12.0"
  }
 },
 "nbformat": 4,
 "nbformat_minor": 2
}
